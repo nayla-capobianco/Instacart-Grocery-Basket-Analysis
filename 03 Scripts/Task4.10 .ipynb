{
 "cells": [
  {
   "cell_type": "markdown",
   "metadata": {},
   "source": [
    "# 4.10 : Coding Etiquette & Excel Reporting"
   ]
  },
  {
   "cell_type": "markdown",
   "metadata": {},
   "source": [
    "## - Consolidate results of Python analysis in a final report for stakeholders a population flow to demonstrate process of data cleaning"
   ]
  },
  {
   "cell_type": "markdown",
   "metadata": {},
   "source": [
    "## Instacart Analysis Final"
   ]
  },
  {
   "cell_type": "code",
   "execution_count": 6,
   "metadata": {},
   "outputs": [],
   "source": [
    "# import libraries\n",
    "import pandas as pd\n",
    "import numpy as np\n",
    "import os\n",
    "import matplotlib.pyplot as plt\n",
    "import seaborn as sns\n",
    "import scipy\n",
    "pd.options.display.float_format = '{:.2f}'.format"
   ]
  },
  {
   "cell_type": "markdown",
   "metadata": {},
   "source": [
    "### 1.Import the data set you exported in Exercise 4.9 into a new Jupyter notebook. This should be the merged version of your data that contains the new customers column."
   ]
  },
  {
   "cell_type": "code",
   "execution_count": 7,
   "metadata": {},
   "outputs": [],
   "source": [
    "path = r'C:\\Users\\nayla\\Desktop\\Carrer F\\Curso de inmersion\\unidad 4\\10-2020 Instacart Basket Analysis\\02 Data'"
   ]
  },
  {
   "cell_type": "code",
   "execution_count": 8,
   "metadata": {},
   "outputs": [],
   "source": [
    "df=pd.read_pickle(os.path.join(path,'Prepared Data', 'Orders_products_all.pkl')) \n"
   ]
  },
  {
   "cell_type": "code",
   "execution_count": 9,
   "metadata": {},
   "outputs": [
    {
     "data": {
      "text/plain": [
       "count   32400914.00\n",
       "mean           7.79\n",
       "std            4.24\n",
       "min            1.00\n",
       "25%            4.20\n",
       "50%            7.40\n",
       "75%           11.30\n",
       "max           25.00\n",
       "Name: prices, dtype: float64"
      ]
     },
     "execution_count": 9,
     "metadata": {},
     "output_type": "execute_result"
    }
   ],
   "source": [
    "# make sure we don't have bad entries (price>40)\n",
    "df['prices'].describe()"
   ]
  },
  {
   "cell_type": "code",
   "execution_count": 10,
   "metadata": {},
   "outputs": [
    {
     "data": {
      "text/html": [
       "<div>\n",
       "<style scoped>\n",
       "    .dataframe tbody tr th:only-of-type {\n",
       "        vertical-align: middle;\n",
       "    }\n",
       "\n",
       "    .dataframe tbody tr th {\n",
       "        vertical-align: top;\n",
       "    }\n",
       "\n",
       "    .dataframe thead th {\n",
       "        text-align: right;\n",
       "    }\n",
       "</style>\n",
       "<table border=\"1\" class=\"dataframe\">\n",
       "  <thead>\n",
       "    <tr style=\"text-align: right;\">\n",
       "      <th></th>\n",
       "      <th>product_id</th>\n",
       "      <th>product_name</th>\n",
       "      <th>aisle_id</th>\n",
       "      <th>department_id</th>\n",
       "      <th>prices</th>\n",
       "      <th>order_id</th>\n",
       "      <th>user_id</th>\n",
       "      <th>order_number</th>\n",
       "      <th>orders_day_of_week</th>\n",
       "      <th>order_hour_of_day</th>\n",
       "      <th>...</th>\n",
       "      <th>frequency</th>\n",
       "      <th>frequency flag</th>\n",
       "      <th>name</th>\n",
       "      <th>surname</th>\n",
       "      <th>Gender</th>\n",
       "      <th>state</th>\n",
       "      <th>age</th>\n",
       "      <th>date_joined</th>\n",
       "      <th>n_dependants</th>\n",
       "      <th>income</th>\n",
       "    </tr>\n",
       "  </thead>\n",
       "  <tbody>\n",
       "    <tr>\n",
       "      <td>0</td>\n",
       "      <td>1</td>\n",
       "      <td>Chocolate Sandwich Cookies</td>\n",
       "      <td>61</td>\n",
       "      <td>19</td>\n",
       "      <td>5.80</td>\n",
       "      <td>3139998</td>\n",
       "      <td>138</td>\n",
       "      <td>28</td>\n",
       "      <td>6</td>\n",
       "      <td>11.00</td>\n",
       "      <td>...</td>\n",
       "      <td>8.00</td>\n",
       "      <td>Frequent customer</td>\n",
       "      <td>Charles</td>\n",
       "      <td>Cox</td>\n",
       "      <td>Male</td>\n",
       "      <td>Minnesota</td>\n",
       "      <td>81</td>\n",
       "      <td>2019-08-01</td>\n",
       "      <td>1</td>\n",
       "      <td>49620</td>\n",
       "    </tr>\n",
       "    <tr>\n",
       "      <td>1</td>\n",
       "      <td>1</td>\n",
       "      <td>Chocolate Sandwich Cookies</td>\n",
       "      <td>61</td>\n",
       "      <td>19</td>\n",
       "      <td>5.80</td>\n",
       "      <td>1977647</td>\n",
       "      <td>138</td>\n",
       "      <td>30</td>\n",
       "      <td>6</td>\n",
       "      <td>17.00</td>\n",
       "      <td>...</td>\n",
       "      <td>8.00</td>\n",
       "      <td>Frequent customer</td>\n",
       "      <td>Charles</td>\n",
       "      <td>Cox</td>\n",
       "      <td>Male</td>\n",
       "      <td>Minnesota</td>\n",
       "      <td>81</td>\n",
       "      <td>2019-08-01</td>\n",
       "      <td>1</td>\n",
       "      <td>49620</td>\n",
       "    </tr>\n",
       "    <tr>\n",
       "      <td>2</td>\n",
       "      <td>907</td>\n",
       "      <td>Premium Sliced Bacon</td>\n",
       "      <td>106</td>\n",
       "      <td>12</td>\n",
       "      <td>20.00</td>\n",
       "      <td>3160996</td>\n",
       "      <td>138</td>\n",
       "      <td>1</td>\n",
       "      <td>5</td>\n",
       "      <td>13.00</td>\n",
       "      <td>...</td>\n",
       "      <td>8.00</td>\n",
       "      <td>Frequent customer</td>\n",
       "      <td>Charles</td>\n",
       "      <td>Cox</td>\n",
       "      <td>Male</td>\n",
       "      <td>Minnesota</td>\n",
       "      <td>81</td>\n",
       "      <td>2019-08-01</td>\n",
       "      <td>1</td>\n",
       "      <td>49620</td>\n",
       "    </tr>\n",
       "    <tr>\n",
       "      <td>3</td>\n",
       "      <td>907</td>\n",
       "      <td>Premium Sliced Bacon</td>\n",
       "      <td>106</td>\n",
       "      <td>12</td>\n",
       "      <td>20.00</td>\n",
       "      <td>2254091</td>\n",
       "      <td>138</td>\n",
       "      <td>10</td>\n",
       "      <td>5</td>\n",
       "      <td>14.00</td>\n",
       "      <td>...</td>\n",
       "      <td>8.00</td>\n",
       "      <td>Frequent customer</td>\n",
       "      <td>Charles</td>\n",
       "      <td>Cox</td>\n",
       "      <td>Male</td>\n",
       "      <td>Minnesota</td>\n",
       "      <td>81</td>\n",
       "      <td>2019-08-01</td>\n",
       "      <td>1</td>\n",
       "      <td>49620</td>\n",
       "    </tr>\n",
       "    <tr>\n",
       "      <td>4</td>\n",
       "      <td>1000</td>\n",
       "      <td>Apricots</td>\n",
       "      <td>18</td>\n",
       "      <td>10</td>\n",
       "      <td>12.90</td>\n",
       "      <td>505689</td>\n",
       "      <td>138</td>\n",
       "      <td>9</td>\n",
       "      <td>6</td>\n",
       "      <td>12.00</td>\n",
       "      <td>...</td>\n",
       "      <td>8.00</td>\n",
       "      <td>Frequent customer</td>\n",
       "      <td>Charles</td>\n",
       "      <td>Cox</td>\n",
       "      <td>Male</td>\n",
       "      <td>Minnesota</td>\n",
       "      <td>81</td>\n",
       "      <td>2019-08-01</td>\n",
       "      <td>1</td>\n",
       "      <td>49620</td>\n",
       "    </tr>\n",
       "  </tbody>\n",
       "</table>\n",
       "<p>5 rows × 30 columns</p>\n",
       "</div>"
      ],
      "text/plain": [
       "   product_id                product_name  aisle_id  department_id  prices  \\\n",
       "0           1  Chocolate Sandwich Cookies        61             19    5.80   \n",
       "1           1  Chocolate Sandwich Cookies        61             19    5.80   \n",
       "2         907        Premium Sliced Bacon       106             12   20.00   \n",
       "3         907        Premium Sliced Bacon       106             12   20.00   \n",
       "4        1000                    Apricots        18             10   12.90   \n",
       "\n",
       "   order_id  user_id  order_number  orders_day_of_week  order_hour_of_day  \\\n",
       "0   3139998      138            28                   6              11.00   \n",
       "1   1977647      138            30                   6              17.00   \n",
       "2   3160996      138             1                   5              13.00   \n",
       "3   2254091      138            10                   5              14.00   \n",
       "4    505689      138             9                   6              12.00   \n",
       "\n",
       "   ...  frequency     frequency flag     name surname Gender      state  age  \\\n",
       "0  ...       8.00  Frequent customer  Charles     Cox   Male  Minnesota   81   \n",
       "1  ...       8.00  Frequent customer  Charles     Cox   Male  Minnesota   81   \n",
       "2  ...       8.00  Frequent customer  Charles     Cox   Male  Minnesota   81   \n",
       "3  ...       8.00  Frequent customer  Charles     Cox   Male  Minnesota   81   \n",
       "4  ...       8.00  Frequent customer  Charles     Cox   Male  Minnesota   81   \n",
       "\n",
       "  date_joined  n_dependants income  \n",
       "0  2019-08-01             1  49620  \n",
       "1  2019-08-01             1  49620  \n",
       "2  2019-08-01             1  49620  \n",
       "3  2019-08-01             1  49620  \n",
       "4  2019-08-01             1  49620  \n",
       "\n",
       "[5 rows x 30 columns]"
      ]
     },
     "execution_count": 10,
     "metadata": {},
     "output_type": "execute_result"
    }
   ],
   "source": [
    "df.head()"
   ]
  },
  {
   "cell_type": "code",
   "execution_count": 11,
   "metadata": {},
   "outputs": [
    {
     "data": {
      "text/plain": [
       "{1: 'frozen',\n",
       " 2: 'other',\n",
       " 3: 'bakery',\n",
       " 4: 'produce',\n",
       " 5: 'alcohol',\n",
       " 6: 'international',\n",
       " 7: 'beverages',\n",
       " 8: 'pets',\n",
       " 9: 'dry goods pasta',\n",
       " 10: 'bulk',\n",
       " 11: 'personal care',\n",
       " 12: 'meat seafood',\n",
       " 13: 'pantry',\n",
       " 14: 'breakfast',\n",
       " 15: 'canned goods',\n",
       " 16: 'dairy eggs',\n",
       " 17: 'household',\n",
       " 18: 'babies',\n",
       " 19: 'snacks',\n",
       " 20: 'deli',\n",
       " 21: 'missing'}"
      ]
     },
     "execution_count": 11,
     "metadata": {},
     "output_type": "execute_result"
    }
   ],
   "source": [
    "departments_by_id=pd.read_csv(os.path.join(path,'Prepared Data', 'departments_wrangled.csv'),index_col=0).to_dict()['department']\n",
    "departments_by_id"
   ]
  },
  {
   "cell_type": "code",
   "execution_count": null,
   "metadata": {},
   "outputs": [],
   "source": []
  },
  {
   "cell_type": "markdown",
   "metadata": {},
   "source": [
    "### 2.Consider any security implications that might exist for this new data. You’ll need to address any PII data in the data before continuing your analysis."
   ]
  },
  {
   "cell_type": "markdown",
   "metadata": {},
   "source": [
    "This is a job that the names are false, they are only there to be able to carry out the case study, but if they were real I would have to delete my column and all the data that is on my computer"
   ]
  },
  {
   "cell_type": "markdown",
   "metadata": {},
   "source": [
    "### 3.The Instacart officers are interested in comparing customer behavior in different geographic areas. Create a regional segmentation of the data. You’ll need to create a “Region” column based on the “State” column from your customers data set. Use the region information in this Wikipedia article to create your column (you only need to create regions, not divisions). Determine whether there’s a difference in spending habits between the different U.S. regions. (Hint: You can do this by crossing the variable you just created with the spending flag.)"
   ]
  },
  {
   "cell_type": "code",
   "execution_count": 12,
   "metadata": {},
   "outputs": [
    {
     "data": {
      "text/plain": [
       "{'Maine': 'North East',\n",
       " 'New Hampshire': 'North East',\n",
       " 'Vermont': 'North East',\n",
       " 'Massachusetts': 'North East',\n",
       " 'Rhode Island': 'North East',\n",
       " 'Connecticut': 'North East',\n",
       " 'New York': 'North East',\n",
       " 'Pennsylvania': 'North East',\n",
       " 'New Jersey': 'North East',\n",
       " 'Wisconsin': 'Midwest',\n",
       " 'Michigan': 'Midwest',\n",
       " 'Illinois': 'Midwest',\n",
       " 'Indiana': 'Midwest',\n",
       " 'Ohio': 'Midwest',\n",
       " 'North Dakota': 'Midwest',\n",
       " 'South Dakota': 'Midwest',\n",
       " 'Nebraska': 'Midwest',\n",
       " 'Kansas': 'Midwest',\n",
       " 'Minnesota': 'Midwest',\n",
       " 'Iowa': 'Midwest',\n",
       " 'Missouri': 'Midwest',\n",
       " 'Delaware': 'South',\n",
       " 'Maryland': 'South',\n",
       " 'District of Columbia': 'South',\n",
       " 'Virginia': 'South',\n",
       " 'West Virginia': 'South',\n",
       " 'North Carolina': 'South',\n",
       " 'South Carolina': 'South',\n",
       " 'Georgia': 'South',\n",
       " 'Florida': 'South',\n",
       " 'Kentucky': 'South',\n",
       " 'Tennessee': 'South',\n",
       " 'Mississippi': 'South',\n",
       " 'Alabama': 'South',\n",
       " 'Oklahoma': 'South',\n",
       " 'Texas': 'South',\n",
       " 'Arkansas': 'South',\n",
       " 'Louisiana': 'South',\n",
       " 'Idaho': 'West',\n",
       " 'Montana': 'West',\n",
       " 'Wyoming': 'West',\n",
       " 'Nevada': 'West',\n",
       " 'Utah': 'West',\n",
       " 'Colorado': 'West',\n",
       " 'Arizona': 'West',\n",
       " 'New Mexico': 'West',\n",
       " 'Alaska': 'West',\n",
       " 'Washington': 'West',\n",
       " 'Oregon': 'West',\n",
       " 'California': 'West',\n",
       " 'Hawaii': 'West'}"
      ]
     },
     "execution_count": 12,
     "metadata": {},
     "output_type": "execute_result"
    }
   ],
   "source": [
    "#create a dicctionary\n",
    "REGION1 = [\n",
    "    \"Maine\",\n",
    "    \"New Hampshire\",\n",
    "    \"Vermont\",\n",
    "    \"Massachusetts\",\n",
    "    \"Rhode Island\",\n",
    "    \"Connecticut\",\n",
    "    \"New York\",\n",
    "    \"Pennsylvania\",\n",
    "    \"New Jersey\",\n",
    "]\n",
    "\n",
    "REGION2 = [\n",
    "    \"Wisconsin\",\n",
    "    \"Michigan\",\n",
    "    \"Illinois\",\n",
    "    \"Indiana\",\n",
    "    \"Ohio\",\n",
    "    \"North Dakota\",\n",
    "    \"South Dakota\",\n",
    "    \"Nebraska\",\n",
    "    \"Kansas\",\n",
    "    \"Minnesota\",\n",
    "    \"Iowa\",\n",
    "    \"Missouri\",\n",
    "]\n",
    "\n",
    "REGION3 = [\n",
    "    \"Delaware\",\n",
    "    \"Maryland\",\n",
    "    \"District of Columbia\",\n",
    "    \"Virginia\",\n",
    "    \"West Virginia\",\n",
    "    \"North Carolina\",\n",
    "    \"South Carolina\",\n",
    "    \"Georgia\",\n",
    "    \"Florida\",\n",
    "    \"Kentucky\",\n",
    "    \"Tennessee\",\n",
    "    \"Mississippi\",\n",
    "    \"Alabama\",\n",
    "    \"Oklahoma\",\n",
    "    \"Texas\",\n",
    "    \"Arkansas\",\n",
    "    \"Louisiana\",\n",
    "]\n",
    "\n",
    "\n",
    "REGION4 = [\n",
    "    \"Idaho\",\n",
    "    \"Montana\",\n",
    "    \"Wyoming\",\n",
    "    \"Nevada\",\n",
    "    \"Utah\",\n",
    "    \"Colorado\",\n",
    "    \"Arizona\",\n",
    "    \"New Mexico\",\n",
    "    \"Alaska\",\n",
    "    \"Washington\",\n",
    "    \"Oregon\",\n",
    "    \"California\",\n",
    "    \"Hawaii\",\n",
    "]\n",
    "    \n",
    "STATE_TO_REGION_MAP = {}\n",
    "\n",
    "for x in REGION1:\n",
    "    STATE_TO_REGION_MAP[x] = \"North East\"\n",
    "\n",
    "for x in REGION2:\n",
    "    STATE_TO_REGION_MAP[x] = \"Midwest\"\n",
    "\n",
    "for x in REGION3:\n",
    "    STATE_TO_REGION_MAP[x] = \"South\"\n",
    "    \n",
    "for x in REGION4:\n",
    "    STATE_TO_REGION_MAP[x] = \"West\"\n",
    "\n",
    "STATE_TO_REGION_MAP"
   ]
  },
  {
   "cell_type": "code",
   "execution_count": 13,
   "metadata": {},
   "outputs": [],
   "source": [
    "#create a funtion (new column in df)\n",
    "def map_state_to_region(state):\n",
    "    return STATE_TO_REGION_MAP.get(state, \"invalid\")\n",
    "\n",
    "df[\"region\"] = df[\"state\"].apply(map_state_to_region)\n"
   ]
  },
  {
   "cell_type": "code",
   "execution_count": 14,
   "metadata": {},
   "outputs": [
    {
     "data": {
      "text/html": [
       "<div>\n",
       "<style scoped>\n",
       "    .dataframe tbody tr th:only-of-type {\n",
       "        vertical-align: middle;\n",
       "    }\n",
       "\n",
       "    .dataframe tbody tr th {\n",
       "        vertical-align: top;\n",
       "    }\n",
       "\n",
       "    .dataframe thead th {\n",
       "        text-align: right;\n",
       "    }\n",
       "</style>\n",
       "<table border=\"1\" class=\"dataframe\">\n",
       "  <thead>\n",
       "    <tr style=\"text-align: right;\">\n",
       "      <th></th>\n",
       "      <th>product_id</th>\n",
       "      <th>product_name</th>\n",
       "      <th>aisle_id</th>\n",
       "      <th>department_id</th>\n",
       "      <th>prices</th>\n",
       "      <th>order_id</th>\n",
       "      <th>user_id</th>\n",
       "      <th>order_number</th>\n",
       "      <th>orders_day_of_week</th>\n",
       "      <th>order_hour_of_day</th>\n",
       "      <th>...</th>\n",
       "      <th>frequency flag</th>\n",
       "      <th>name</th>\n",
       "      <th>surname</th>\n",
       "      <th>Gender</th>\n",
       "      <th>state</th>\n",
       "      <th>age</th>\n",
       "      <th>date_joined</th>\n",
       "      <th>n_dependants</th>\n",
       "      <th>income</th>\n",
       "      <th>region</th>\n",
       "    </tr>\n",
       "  </thead>\n",
       "  <tbody>\n",
       "    <tr>\n",
       "      <td>0</td>\n",
       "      <td>1</td>\n",
       "      <td>Chocolate Sandwich Cookies</td>\n",
       "      <td>61</td>\n",
       "      <td>19</td>\n",
       "      <td>5.80</td>\n",
       "      <td>3139998</td>\n",
       "      <td>138</td>\n",
       "      <td>28</td>\n",
       "      <td>6</td>\n",
       "      <td>11.00</td>\n",
       "      <td>...</td>\n",
       "      <td>Frequent customer</td>\n",
       "      <td>Charles</td>\n",
       "      <td>Cox</td>\n",
       "      <td>Male</td>\n",
       "      <td>Minnesota</td>\n",
       "      <td>81</td>\n",
       "      <td>2019-08-01</td>\n",
       "      <td>1</td>\n",
       "      <td>49620</td>\n",
       "      <td>Midwest</td>\n",
       "    </tr>\n",
       "    <tr>\n",
       "      <td>1</td>\n",
       "      <td>1</td>\n",
       "      <td>Chocolate Sandwich Cookies</td>\n",
       "      <td>61</td>\n",
       "      <td>19</td>\n",
       "      <td>5.80</td>\n",
       "      <td>1977647</td>\n",
       "      <td>138</td>\n",
       "      <td>30</td>\n",
       "      <td>6</td>\n",
       "      <td>17.00</td>\n",
       "      <td>...</td>\n",
       "      <td>Frequent customer</td>\n",
       "      <td>Charles</td>\n",
       "      <td>Cox</td>\n",
       "      <td>Male</td>\n",
       "      <td>Minnesota</td>\n",
       "      <td>81</td>\n",
       "      <td>2019-08-01</td>\n",
       "      <td>1</td>\n",
       "      <td>49620</td>\n",
       "      <td>Midwest</td>\n",
       "    </tr>\n",
       "    <tr>\n",
       "      <td>2</td>\n",
       "      <td>907</td>\n",
       "      <td>Premium Sliced Bacon</td>\n",
       "      <td>106</td>\n",
       "      <td>12</td>\n",
       "      <td>20.00</td>\n",
       "      <td>3160996</td>\n",
       "      <td>138</td>\n",
       "      <td>1</td>\n",
       "      <td>5</td>\n",
       "      <td>13.00</td>\n",
       "      <td>...</td>\n",
       "      <td>Frequent customer</td>\n",
       "      <td>Charles</td>\n",
       "      <td>Cox</td>\n",
       "      <td>Male</td>\n",
       "      <td>Minnesota</td>\n",
       "      <td>81</td>\n",
       "      <td>2019-08-01</td>\n",
       "      <td>1</td>\n",
       "      <td>49620</td>\n",
       "      <td>Midwest</td>\n",
       "    </tr>\n",
       "    <tr>\n",
       "      <td>3</td>\n",
       "      <td>907</td>\n",
       "      <td>Premium Sliced Bacon</td>\n",
       "      <td>106</td>\n",
       "      <td>12</td>\n",
       "      <td>20.00</td>\n",
       "      <td>2254091</td>\n",
       "      <td>138</td>\n",
       "      <td>10</td>\n",
       "      <td>5</td>\n",
       "      <td>14.00</td>\n",
       "      <td>...</td>\n",
       "      <td>Frequent customer</td>\n",
       "      <td>Charles</td>\n",
       "      <td>Cox</td>\n",
       "      <td>Male</td>\n",
       "      <td>Minnesota</td>\n",
       "      <td>81</td>\n",
       "      <td>2019-08-01</td>\n",
       "      <td>1</td>\n",
       "      <td>49620</td>\n",
       "      <td>Midwest</td>\n",
       "    </tr>\n",
       "    <tr>\n",
       "      <td>4</td>\n",
       "      <td>1000</td>\n",
       "      <td>Apricots</td>\n",
       "      <td>18</td>\n",
       "      <td>10</td>\n",
       "      <td>12.90</td>\n",
       "      <td>505689</td>\n",
       "      <td>138</td>\n",
       "      <td>9</td>\n",
       "      <td>6</td>\n",
       "      <td>12.00</td>\n",
       "      <td>...</td>\n",
       "      <td>Frequent customer</td>\n",
       "      <td>Charles</td>\n",
       "      <td>Cox</td>\n",
       "      <td>Male</td>\n",
       "      <td>Minnesota</td>\n",
       "      <td>81</td>\n",
       "      <td>2019-08-01</td>\n",
       "      <td>1</td>\n",
       "      <td>49620</td>\n",
       "      <td>Midwest</td>\n",
       "    </tr>\n",
       "  </tbody>\n",
       "</table>\n",
       "<p>5 rows × 31 columns</p>\n",
       "</div>"
      ],
      "text/plain": [
       "   product_id                product_name  aisle_id  department_id  prices  \\\n",
       "0           1  Chocolate Sandwich Cookies        61             19    5.80   \n",
       "1           1  Chocolate Sandwich Cookies        61             19    5.80   \n",
       "2         907        Premium Sliced Bacon       106             12   20.00   \n",
       "3         907        Premium Sliced Bacon       106             12   20.00   \n",
       "4        1000                    Apricots        18             10   12.90   \n",
       "\n",
       "   order_id  user_id  order_number  orders_day_of_week  order_hour_of_day  \\\n",
       "0   3139998      138            28                   6              11.00   \n",
       "1   1977647      138            30                   6              17.00   \n",
       "2   3160996      138             1                   5              13.00   \n",
       "3   2254091      138            10                   5              14.00   \n",
       "4    505689      138             9                   6              12.00   \n",
       "\n",
       "   ...     frequency flag     name  surname Gender      state age  \\\n",
       "0  ...  Frequent customer  Charles      Cox   Male  Minnesota  81   \n",
       "1  ...  Frequent customer  Charles      Cox   Male  Minnesota  81   \n",
       "2  ...  Frequent customer  Charles      Cox   Male  Minnesota  81   \n",
       "3  ...  Frequent customer  Charles      Cox   Male  Minnesota  81   \n",
       "4  ...  Frequent customer  Charles      Cox   Male  Minnesota  81   \n",
       "\n",
       "   date_joined n_dependants  income   region  \n",
       "0   2019-08-01            1   49620  Midwest  \n",
       "1   2019-08-01            1   49620  Midwest  \n",
       "2   2019-08-01            1   49620  Midwest  \n",
       "3   2019-08-01            1   49620  Midwest  \n",
       "4   2019-08-01            1   49620  Midwest  \n",
       "\n",
       "[5 rows x 31 columns]"
      ]
     },
     "execution_count": 14,
     "metadata": {},
     "output_type": "execute_result"
    }
   ],
   "source": [
    "# check new column\n",
    "df.head()"
   ]
  },
  {
   "cell_type": "code",
   "execution_count": 15,
   "metadata": {},
   "outputs": [],
   "source": [
    "#Determine whether there’s a difference in spending habits between the different U.S. regions. (Hint: You can do this by crossing the variable you just created with the spending flag.)\n",
    "ser1=df.groupby(['region', 'spending flag']).size()"
   ]
  },
  {
   "cell_type": "code",
   "execution_count": 16,
   "metadata": {},
   "outputs": [
    {
     "data": {
      "text/plain": [
       "Text(0, 0.5, 'Relative frequency of number of customers')"
      ]
     },
     "execution_count": 16,
     "metadata": {},
     "output_type": "execute_result"
    },
    {
     "data": {
      "image/png": "[encoded data removed]",
      "text/plain": [
       "<Figure size 432x288 with 1 Axes>"
      ]
     },
     "metadata": {
      "needs_background": "light"
     },
     "output_type": "display_data"
    }
   ],
   "source": [
    "#create a plot \n",
    "Spendinghabits=ser1.unstack(fill_value=0).plot(kind=\"bar\", stacked=True)\n",
    "plt.title('Spending habits between the different U.S. regions')\n",
    "plt.xlabel('Region')\n",
    "plt.ylabel('Relative frequency of number of customers')\n"
   ]
  },
  {
   "cell_type": "markdown",
   "metadata": {},
   "source": []
  },
  {
   "cell_type": "code",
   "execution_count": 17,
   "metadata": {},
   "outputs": [],
   "source": [
    "path2 = r'C:\\Users\\nayla\\Desktop\\Carrer F\\Curso de inmersion\\unidad 4\\10-2020 Instacart Basket Analysis'"
   ]
  },
  {
   "cell_type": "code",
   "execution_count": 18,
   "metadata": {},
   "outputs": [],
   "source": [
    "#export plot\n",
    "Spendinghabits.figure.savefig(os.path.join(path2, '04 Analysis','Visualizations', 'Spendinghabits.png'))"
   ]
  },
  {
   "cell_type": "markdown",
   "metadata": {},
   "source": [
    "### 4.The Instacart CFO isn’t interested in customers who don’t generate much revenue for the app. Create an exclusion flag for low-activity customers (customers with less than 5 orders) and exclude them from the data. Make sure you export this sample."
   ]
  },
  {
   "cell_type": "code",
   "execution_count": 19,
   "metadata": {},
   "outputs": [
    {
     "data": {
      "text/plain": [
       "user_id\n",
       "1          59\n",
       "2         195\n",
       "3          88\n",
       "4          18\n",
       "5          37\n",
       "         ... \n",
       "206205     32\n",
       "206206    285\n",
       "206207    223\n",
       "206208    677\n",
       "206209    129\n",
       "Name: order_id, Length: 206209, dtype: int64"
      ]
     },
     "execution_count": 19,
     "metadata": {},
     "output_type": "execute_result"
    }
   ],
   "source": [
    "amount_of_orders_by_user=df.groupby('user_id')['order_id'].count()\n",
    "amount_of_orders_by_user"
   ]
  },
  {
   "cell_type": "code",
   "execution_count": 20,
   "metadata": {},
   "outputs": [
    {
     "data": {
      "text/plain": [
       "user_id\n",
       "196       3\n",
       "490       4\n",
       "569       3\n",
       "619       4\n",
       "627       4\n",
       "         ..\n",
       "204913    3\n",
       "204940    3\n",
       "205221    4\n",
       "205562    4\n",
       "205806    3\n",
       "Name: order_id, Length: 799, dtype: int64"
      ]
     },
     "execution_count": 20,
     "metadata": {},
     "output_type": "execute_result"
    }
   ],
   "source": [
    "# users that will be excluded\n",
    "amount_of_orders_by_user.loc[lambda x : x < 5]"
   ]
  },
  {
   "cell_type": "code",
   "execution_count": 21,
   "metadata": {},
   "outputs": [
    {
     "data": {
      "text/plain": [
       "2883"
      ]
     },
     "execution_count": 21,
     "metadata": {},
     "output_type": "execute_result"
    }
   ],
   "source": [
    "# amount of orders to drop\n",
    "amount_of_orders_by_user.loc[lambda x : x < 5].sum()"
   ]
  },
  {
   "cell_type": "code",
   "execution_count": 22,
   "metadata": {},
   "outputs": [],
   "source": [
    "# convert to a dict so filtering is faster\n",
    "users_to_drop = amount_of_orders_by_user.loc[lambda x : x < 5].to_dict()"
   ]
  },
  {
   "cell_type": "code",
   "execution_count": 23,
   "metadata": {},
   "outputs": [],
   "source": [
    "df[\"Exclusion_flag\"] = df[\"user_id\"].apply(lambda x: x in users_to_drop)\n"
   ]
  },
  {
   "cell_type": "code",
   "execution_count": 24,
   "metadata": {},
   "outputs": [
    {
     "data": {
      "text/plain": [
       "False    32398031\n",
       "True         2883\n",
       "Name: Exclusion_flag, dtype: int64"
      ]
     },
     "execution_count": 24,
     "metadata": {},
     "output_type": "execute_result"
    }
   ],
   "source": [
    "df[\"Exclusion_flag\"].value_counts()"
   ]
  },
  {
   "cell_type": "code",
   "execution_count": 26,
   "metadata": {},
   "outputs": [],
   "source": [
    "orders_products_all = df.drop(df[df.Exclusion_flag == True].index)"
   ]
  },
  {
   "cell_type": "code",
   "execution_count": 27,
   "metadata": {},
   "outputs": [
    {
     "data": {
      "text/plain": [
       "0           False\n",
       "1           False\n",
       "2           False\n",
       "3           False\n",
       "4           False\n",
       "            ...  \n",
       "32406025    False\n",
       "32406026    False\n",
       "32406027    False\n",
       "32406028    False\n",
       "32406029    False\n",
       "Name: Exclusion_flag, Length: 32398031, dtype: bool"
      ]
     },
     "execution_count": 27,
     "metadata": {},
     "output_type": "execute_result"
    }
   ],
   "source": [
    "orders_products_all[\"Exclusion_flag\"]"
   ]
  },
  {
   "cell_type": "code",
   "execution_count": 28,
   "metadata": {},
   "outputs": [
    {
     "data": {
      "text/html": [
       "<div>\n",
       "<style scoped>\n",
       "    .dataframe tbody tr th:only-of-type {\n",
       "        vertical-align: middle;\n",
       "    }\n",
       "\n",
       "    .dataframe tbody tr th {\n",
       "        vertical-align: top;\n",
       "    }\n",
       "\n",
       "    .dataframe thead th {\n",
       "        text-align: right;\n",
       "    }\n",
       "</style>\n",
       "<table border=\"1\" class=\"dataframe\">\n",
       "  <thead>\n",
       "    <tr style=\"text-align: right;\">\n",
       "      <th></th>\n",
       "      <th>product_id</th>\n",
       "      <th>product_name</th>\n",
       "      <th>aisle_id</th>\n",
       "      <th>department_id</th>\n",
       "      <th>prices</th>\n",
       "      <th>order_id</th>\n",
       "      <th>user_id</th>\n",
       "      <th>order_number</th>\n",
       "      <th>orders_day_of_week</th>\n",
       "      <th>order_hour_of_day</th>\n",
       "      <th>...</th>\n",
       "      <th>frequency flag</th>\n",
       "      <th>name</th>\n",
       "      <th>surname</th>\n",
       "      <th>Gender</th>\n",
       "      <th>state</th>\n",
       "      <th>age</th>\n",
       "      <th>date_joined</th>\n",
       "      <th>n_dependants</th>\n",
       "      <th>income</th>\n",
       "      <th>region</th>\n",
       "    </tr>\n",
       "  </thead>\n",
       "  <tbody>\n",
       "    <tr>\n",
       "      <td>0</td>\n",
       "      <td>1</td>\n",
       "      <td>Chocolate Sandwich Cookies</td>\n",
       "      <td>61</td>\n",
       "      <td>19</td>\n",
       "      <td>5.80</td>\n",
       "      <td>3139998</td>\n",
       "      <td>138</td>\n",
       "      <td>28</td>\n",
       "      <td>6</td>\n",
       "      <td>11.00</td>\n",
       "      <td>...</td>\n",
       "      <td>Frequent customer</td>\n",
       "      <td>Charles</td>\n",
       "      <td>Cox</td>\n",
       "      <td>Male</td>\n",
       "      <td>Minnesota</td>\n",
       "      <td>81</td>\n",
       "      <td>2019-08-01</td>\n",
       "      <td>1</td>\n",
       "      <td>49620</td>\n",
       "      <td>Midwest</td>\n",
       "    </tr>\n",
       "    <tr>\n",
       "      <td>1</td>\n",
       "      <td>1</td>\n",
       "      <td>Chocolate Sandwich Cookies</td>\n",
       "      <td>61</td>\n",
       "      <td>19</td>\n",
       "      <td>5.80</td>\n",
       "      <td>1977647</td>\n",
       "      <td>138</td>\n",
       "      <td>30</td>\n",
       "      <td>6</td>\n",
       "      <td>17.00</td>\n",
       "      <td>...</td>\n",
       "      <td>Frequent customer</td>\n",
       "      <td>Charles</td>\n",
       "      <td>Cox</td>\n",
       "      <td>Male</td>\n",
       "      <td>Minnesota</td>\n",
       "      <td>81</td>\n",
       "      <td>2019-08-01</td>\n",
       "      <td>1</td>\n",
       "      <td>49620</td>\n",
       "      <td>Midwest</td>\n",
       "    </tr>\n",
       "    <tr>\n",
       "      <td>2</td>\n",
       "      <td>907</td>\n",
       "      <td>Premium Sliced Bacon</td>\n",
       "      <td>106</td>\n",
       "      <td>12</td>\n",
       "      <td>20.00</td>\n",
       "      <td>3160996</td>\n",
       "      <td>138</td>\n",
       "      <td>1</td>\n",
       "      <td>5</td>\n",
       "      <td>13.00</td>\n",
       "      <td>...</td>\n",
       "      <td>Frequent customer</td>\n",
       "      <td>Charles</td>\n",
       "      <td>Cox</td>\n",
       "      <td>Male</td>\n",
       "      <td>Minnesota</td>\n",
       "      <td>81</td>\n",
       "      <td>2019-08-01</td>\n",
       "      <td>1</td>\n",
       "      <td>49620</td>\n",
       "      <td>Midwest</td>\n",
       "    </tr>\n",
       "    <tr>\n",
       "      <td>3</td>\n",
       "      <td>907</td>\n",
       "      <td>Premium Sliced Bacon</td>\n",
       "      <td>106</td>\n",
       "      <td>12</td>\n",
       "      <td>20.00</td>\n",
       "      <td>2254091</td>\n",
       "      <td>138</td>\n",
       "      <td>10</td>\n",
       "      <td>5</td>\n",
       "      <td>14.00</td>\n",
       "      <td>...</td>\n",
       "      <td>Frequent customer</td>\n",
       "      <td>Charles</td>\n",
       "      <td>Cox</td>\n",
       "      <td>Male</td>\n",
       "      <td>Minnesota</td>\n",
       "      <td>81</td>\n",
       "      <td>2019-08-01</td>\n",
       "      <td>1</td>\n",
       "      <td>49620</td>\n",
       "      <td>Midwest</td>\n",
       "    </tr>\n",
       "    <tr>\n",
       "      <td>4</td>\n",
       "      <td>1000</td>\n",
       "      <td>Apricots</td>\n",
       "      <td>18</td>\n",
       "      <td>10</td>\n",
       "      <td>12.90</td>\n",
       "      <td>505689</td>\n",
       "      <td>138</td>\n",
       "      <td>9</td>\n",
       "      <td>6</td>\n",
       "      <td>12.00</td>\n",
       "      <td>...</td>\n",
       "      <td>Frequent customer</td>\n",
       "      <td>Charles</td>\n",
       "      <td>Cox</td>\n",
       "      <td>Male</td>\n",
       "      <td>Minnesota</td>\n",
       "      <td>81</td>\n",
       "      <td>2019-08-01</td>\n",
       "      <td>1</td>\n",
       "      <td>49620</td>\n",
       "      <td>Midwest</td>\n",
       "    </tr>\n",
       "  </tbody>\n",
       "</table>\n",
       "<p>5 rows × 31 columns</p>\n",
       "</div>"
      ],
      "text/plain": [
       "   product_id                product_name  aisle_id  department_id  prices  \\\n",
       "0           1  Chocolate Sandwich Cookies        61             19    5.80   \n",
       "1           1  Chocolate Sandwich Cookies        61             19    5.80   \n",
       "2         907        Premium Sliced Bacon       106             12   20.00   \n",
       "3         907        Premium Sliced Bacon       106             12   20.00   \n",
       "4        1000                    Apricots        18             10   12.90   \n",
       "\n",
       "   order_id  user_id  order_number  orders_day_of_week  order_hour_of_day  \\\n",
       "0   3139998      138            28                   6              11.00   \n",
       "1   1977647      138            30                   6              17.00   \n",
       "2   3160996      138             1                   5              13.00   \n",
       "3   2254091      138            10                   5              14.00   \n",
       "4    505689      138             9                   6              12.00   \n",
       "\n",
       "   ...     frequency flag     name  surname Gender      state age  \\\n",
       "0  ...  Frequent customer  Charles      Cox   Male  Minnesota  81   \n",
       "1  ...  Frequent customer  Charles      Cox   Male  Minnesota  81   \n",
       "2  ...  Frequent customer  Charles      Cox   Male  Minnesota  81   \n",
       "3  ...  Frequent customer  Charles      Cox   Male  Minnesota  81   \n",
       "4  ...  Frequent customer  Charles      Cox   Male  Minnesota  81   \n",
       "\n",
       "   date_joined n_dependants  income   region  \n",
       "0   2019-08-01            1   49620  Midwest  \n",
       "1   2019-08-01            1   49620  Midwest  \n",
       "2   2019-08-01            1   49620  Midwest  \n",
       "3   2019-08-01            1   49620  Midwest  \n",
       "4   2019-08-01            1   49620  Midwest  \n",
       "\n",
       "[5 rows x 31 columns]"
      ]
     },
     "execution_count": 28,
     "metadata": {},
     "output_type": "execute_result"
    }
   ],
   "source": [
    "# drop exclusiong flag column, we don´t need it anymore\n",
    "orders_products_all.drop(columns=\"Exclusion_flag\", inplace=True)\n",
    "orders_products_all.head()"
   ]
  },
  {
   "cell_type": "code",
   "execution_count": 29,
   "metadata": {},
   "outputs": [],
   "source": [
    "# export new df\n",
    "orders_products_all.to_pickle(os.path.join(path,'Prepared Data', 'Orders_products_all.pkl'))"
   ]
  },
  {
   "cell_type": "code",
   "execution_count": 30,
   "metadata": {},
   "outputs": [],
   "source": [
    "# add column with department name for nicer plotting\n",
    "orders_products_all['department_name'] = orders_products_all['department_id'].apply(lambda x: departments_by_id[x])"
   ]
  },
  {
   "cell_type": "markdown",
   "metadata": {},
   "source": [
    "### 5.The marketing and business strategy units at Instacart want to create more-relevant marketing strategies for different products and are, thus, curious about customer profiling in their database. Create a profiling variable based on age, income, certain goods in the “department_id” column, and number of dependents. You might also use the“orders_day_of_the_week” and “order_hour_of_day” columns if you can think of a way they would impact customer profiles. (Hint: As an example, try thinking of what characteristics would lead you to the profile “Single adult” or “Young parent.”)"
   ]
  },
  {
   "cell_type": "markdown",
   "metadata": {},
   "source": [
    "### 6.Create an appropriate visualization to show the distribution of profiles."
   ]
  },
  {
   "cell_type": "code",
   "execution_count": null,
   "metadata": {},
   "outputs": [],
   "source": [
    "orders_products_all[[\"age\",\"income\",\"department_id\",\"n_dependants\",\"orders_day_of_week\",\"order_hour_of_day\" ]].describe().round(0)\n"
   ]
  },
  {
   "cell_type": "code",
   "execution_count": null,
   "metadata": {},
   "outputs": [],
   "source": [
    "def age_map(age):\n",
    "    if age < 33:\n",
    "        return \"young\"\n",
    "    if age < 65:\n",
    "        return \"adult\"\n",
    "    return \"retired\"\n",
    "\n",
    "def family_map(n_dependants):\n",
    "    if n_dependants < 1:\n",
    "        return \"single\"\n",
    "    if n_dependants < 2:\n",
    "        return \"couple\"\n",
    "    return \"family\"\n",
    "\n",
    "def income_map(income):\n",
    "    if income < 96800: # < 50%\n",
    "        return \"low\"\n",
    "    if income < 128000: # < 75%\n",
    "        return \"medium\"\n",
    "    return \"high\" # > 75%\n",
    "\n",
    "AGES = [\"young\", \"adult\", \"retired\"]\n",
    "FAMILIES = [\"single\", \"couple\", \"family\"]\n",
    "INCOMES = [\"low\", \"medium\", \"high\"]\n",
    "PROFILE_SORT = []\n",
    "\n",
    "PROFILE_MAP = dict()\n",
    "for age in AGES:\n",
    "    PROFILE_MAP[age] = dict()\n",
    "    for family in FAMILIES:\n",
    "        PROFILE_MAP[age][family] = dict()\n",
    "        for income in INCOMES:\n",
    "            PROFILE_MAP[age][family][income] = \"%s %s %s\" % (age,  family, income) # age + \" \" + family  ....\n",
    "            PROFILE_SORT.append(\"%s %s %s\" % (age,  family, income))\n",
    "            \n",
    "def profile_map(age_category, family_category, income_category):\n",
    "    return PROFILE_MAP[age_category][family_category][income_category]\n"
   ]
  },
  {
   "cell_type": "code",
   "execution_count": null,
   "metadata": {},
   "outputs": [],
   "source": [
    "orders_products_all[\"age_category\"] = orders_products_all[\"age\"].apply(age_map, 0)"
   ]
  },
  {
   "cell_type": "code",
   "execution_count": null,
   "metadata": {},
   "outputs": [],
   "source": [
    "orders_products_all[\"family_category\"] = orders_products_all[\"n_dependants\"].apply(family_map, 0)"
   ]
  },
  {
   "cell_type": "code",
   "execution_count": null,
   "metadata": {},
   "outputs": [],
   "source": [
    "orders_products_all[\"income_category\"] = orders_products_all[\"income\"].apply(income_map, 0)"
   ]
  },
  {
   "cell_type": "code",
   "execution_count": null,
   "metadata": {},
   "outputs": [],
   "source": [
    "orders_products_all[\"profile\"] = [profile_map(age, family, income) for age, family, income in zip(orders_products_all['age_category'], orders_products_all['family_category'],orders_products_all['income_category'])]\n"
   ]
  },
  {
   "cell_type": "markdown",
   "metadata": {},
   "source": [
    "# Profiles"
   ]
  },
  {
   "cell_type": "markdown",
   "metadata": {},
   "source": [
    "\n",
    "### A profile that interests us is the age of our buyers by region."
   ]
  },
  {
   "cell_type": "code",
   "execution_count": null,
   "metadata": {},
   "outputs": [],
   "source": [
    "distribution_age_region=pd.crosstab(orders_products_all['age_category'], orders_products_all['region'])"
   ]
  },
  {
   "cell_type": "code",
   "execution_count": null,
   "metadata": {},
   "outputs": [],
   "source": [
    "distribution_age_region"
   ]
  },
  {
   "cell_type": "code",
   "execution_count": null,
   "metadata": {},
   "outputs": [],
   "source": [
    "distribution_age_region=distribution_age_region.plot(\n",
    "    kind = \"bar\",\n",
    "    stacked = False,\n",
    "    figsize = (12,8),\n",
    "    title = \"Distribution age vs region\")\n",
    "plt.xlabel('Age of customers')\n",
    "plt.ylabel('Sales')\n"
   ]
  },
  {
   "cell_type": "code",
   "execution_count": null,
   "metadata": {},
   "outputs": [],
   "source": [
    "# Export visualizations\n",
    "distribution_age_region.figure.savefig(os.path.join(path2, '04 Analysis','Visualizations', 'distribution_age_region.png'))"
   ]
  },
  {
   "cell_type": "markdown",
   "metadata": {},
   "source": []
  },
  {
   "cell_type": "markdown",
   "metadata": {},
   "source": [
    "### Profile income vs age_category"
   ]
  },
  {
   "cell_type": "code",
   "execution_count": null,
   "metadata": {},
   "outputs": [],
   "source": [
    "distribution_income_age=pd.crosstab(orders_products_all['income_category'], orders_products_all['age_category'])\n"
   ]
  },
  {
   "cell_type": "code",
   "execution_count": null,
   "metadata": {},
   "outputs": [],
   "source": [
    "distribution_income_age"
   ]
  },
  {
   "cell_type": "code",
   "execution_count": null,
   "metadata": {},
   "outputs": [],
   "source": [
    "distribution_income_age=distribution_income_age.plot(\n",
    "    kind = \"bar\",\n",
    "    stacked = False,\n",
    "    figsize = (12,8),\n",
    "    title = \"Distribution income vs age\")  \n",
    "plt.xlabel('Income of customers')\n",
    "plt.ylabel('Sales')\n",
    "\n"
   ]
  },
  {
   "cell_type": "code",
   "execution_count": null,
   "metadata": {},
   "outputs": [],
   "source": [
    "# Export visualizations\n",
    "distribution_income_age.figure.savefig(os.path.join(path2, '04 Analysis','Visualizations', 'distribution_income_age.png'))"
   ]
  },
  {
   "cell_type": "markdown",
   "metadata": {},
   "source": []
  },
  {
   "cell_type": "markdown",
   "metadata": {},
   "source": [
    "### 7.Aggregate the max, mean, and min variables on a customer-profile level for usage frequency and expenditure."
   ]
  },
  {
   "cell_type": "code",
   "execution_count": null,
   "metadata": {},
   "outputs": [],
   "source": [
    "users_data = orders_products_all.groupby(\n",
    "        ['user_id', 'age_category', 'family_category', 'income_category', 'region']\n",
    "    )['prices'].\\\n",
    "    agg({'frequency': 'count', 'expenditure': 'sum'}).\\\n",
    "    reset_index()"
   ]
  },
  {
   "cell_type": "code",
   "execution_count": null,
   "metadata": {},
   "outputs": [],
   "source": [
    "users_data"
   ]
  },
  {
   "cell_type": "markdown",
   "metadata": {},
   "source": [
    "#### Frequency and expenditure by family composition"
   ]
  },
  {
   "cell_type": "code",
   "execution_count": null,
   "metadata": {},
   "outputs": [],
   "source": [
    "users_data.groupby(\"family_category\")[[\"frequency\", \"expenditure\"]].agg([\"max\", \"mean\", \"min\"])"
   ]
  },
  {
   "cell_type": "code",
   "execution_count": null,
   "metadata": {},
   "outputs": [],
   "source": []
  },
  {
   "cell_type": "markdown",
   "metadata": {},
   "source": [
    "#### Frequency and expenditure by income"
   ]
  },
  {
   "cell_type": "code",
   "execution_count": null,
   "metadata": {
    "scrolled": true
   },
   "outputs": [],
   "source": [
    "users_data.groupby(\"income_category\")[[\"frequency\", \"expenditure\"]].agg([\"max\", \"mean\", \"min\"])"
   ]
  },
  {
   "cell_type": "markdown",
   "metadata": {},
   "source": [
    "#### Frequency and expenditure by age "
   ]
  },
  {
   "cell_type": "code",
   "execution_count": null,
   "metadata": {},
   "outputs": [],
   "source": [
    "users_data.groupby(\"age_category\")[[\"frequency\", \"expenditure\"]].agg([\"max\", \"mean\", \"min\"])"
   ]
  },
  {
   "cell_type": "markdown",
   "metadata": {},
   "source": [
    "#### Frequency and expenditure by region"
   ]
  },
  {
   "cell_type": "code",
   "execution_count": null,
   "metadata": {},
   "outputs": [],
   "source": [
    "users_data.groupby(\"region\")[[\"frequency\", \"expenditure\"]].agg([\"max\", \"mean\", \"min\"])"
   ]
  },
  {
   "cell_type": "markdown",
   "metadata": {},
   "source": [
    "### 8.Compare your customer profiles with regions and departments. Can you identify a link between them? Customers may demonstrate different behaviors across regions, which could make this information important."
   ]
  },
  {
   "cell_type": "markdown",
   "metadata": {},
   "source": [
    "### 9. Produce suitable charts to illustrate your results and export them in your project folder."
   ]
  },
  {
   "cell_type": "markdown",
   "metadata": {},
   "source": [
    "#### Department_name_vs_region"
   ]
  },
  {
   "cell_type": "code",
   "execution_count": null,
   "metadata": {},
   "outputs": [],
   "source": [
    "frequency_department_name_vs_region = pd.crosstab(\n",
    "        orders_products_all['department_name'],\n",
    "        orders_products_all['region'], \n",
    ")\n",
    "frequency_department_name_vs_region.head()"
   ]
  },
  {
   "cell_type": "code",
   "execution_count": null,
   "metadata": {},
   "outputs": [],
   "source": [
    "frequency_department_name_vs_region_sorted = frequency_department_name_vs_region.sort_values('Midwest', ascending=False)"
   ]
  },
  {
   "cell_type": "code",
   "execution_count": null,
   "metadata": {
    "scrolled": true
   },
   "outputs": [],
   "source": [
    "frequency_department_name_vs_region_plot = frequency_department_name_vs_region_sorted.plot(\n",
    "    kind = \"bar\",\n",
    "    stacked = True,\n",
    "    figsize = (12,8),\n",
    "    \n",
    "    title = \"Amount of units sold by department per region\"\n",
    ")     \n",
    "plt.xlabel('Department')\n",
    "plt.ylabel('Sales')\n",
    "\n"
   ]
  },
  {
   "cell_type": "code",
   "execution_count": null,
   "metadata": {},
   "outputs": [],
   "source": [
    "# Export visualizations\n",
    "frequency_department_name_vs_region_plot.figure.savefig(os.path.join(path2, '04 Analysis','Visualizations', 'frequency_department_name_vs_region.png'))"
   ]
  },
  {
   "cell_type": "markdown",
   "metadata": {},
   "source": [
    "\n"
   ]
  },
  {
   "cell_type": "markdown",
   "metadata": {},
   "source": []
  },
  {
   "cell_type": "markdown",
   "metadata": {},
   "source": [
    "#### Department_name vs age_category"
   ]
  },
  {
   "cell_type": "code",
   "execution_count": null,
   "metadata": {},
   "outputs": [],
   "source": [
    "frequency_department_name_vs_age_category = pd.crosstab(\n",
    "        orders_products_all['department_name'],\n",
    "        orders_products_all['age_category'], \n",
    ")\n",
    "frequency_department_name_vs_age_category.head()\n",
    "frequency_department_name_vs_age_category_sorted = frequency_department_name_vs_age_category.sort_values('adult', ascending=False)"
   ]
  },
  {
   "cell_type": "code",
   "execution_count": null,
   "metadata": {},
   "outputs": [],
   "source": [
    "frequency_department_name_vs_age_category_sorted = frequency_department_name_vs_age_category_sorted.plot(\n",
    "    kind = \"bar\",\n",
    "    stacked = True,\n",
    "    figsize = (12,8),\n",
    "\n",
    "    title = \"Amount of units sold by department and age category\"\n",
    "    \n",
    ")\n",
    "plt.ylabel('Sales')"
   ]
  },
  {
   "cell_type": "code",
   "execution_count": null,
   "metadata": {},
   "outputs": [],
   "source": [
    "# Export visualizations\n",
    "frequency_department_name_vs_age_category_sorted.figure.savefig(os.path.join(path2, '04 Analysis','Visualizations', 'frequency_department_name_vs_age_category.png'))"
   ]
  },
  {
   "cell_type": "markdown",
   "metadata": {},
   "source": [
    "#### Department_name vs family_category"
   ]
  },
  {
   "cell_type": "code",
   "execution_count": null,
   "metadata": {},
   "outputs": [],
   "source": [
    "frequency_department_name_vs_family_category = pd.crosstab(\n",
    "        orders_products_all['department_name'],\n",
    "        orders_products_all['family_category'], \n",
    ").sort_values('couple', ascending=True)\n",
    "frequency_department_name_vs_family_category.head()"
   ]
  },
  {
   "cell_type": "code",
   "execution_count": null,
   "metadata": {},
   "outputs": [],
   "source": [
    "frequency_department_name_vs_family_category = frequency_department_name_vs_family_category.plot(\n",
    "    kind = \"bar\",\n",
    "    stacked = True,\n",
    "    figsize = (12,8),\n",
    "    title = \"Amount of units sold by department and family category\")\n",
    "plt.ylabel('Sales')"
   ]
  },
  {
   "cell_type": "code",
   "execution_count": null,
   "metadata": {},
   "outputs": [],
   "source": [
    "# Export visualizations\n",
    "frequency_department_name_vs_family_category.figure.savefig(os.path.join(path2, '04 Analysis','Visualizations', 'frequency_department_name_vs_family_category.png'))"
   ]
  },
  {
   "cell_type": "markdown",
   "metadata": {},
   "source": [
    "# Project questions (that were not answered in the previous steps)"
   ]
  },
  {
   "cell_type": "markdown",
   "metadata": {},
   "source": [
    "### 1.The sales team needs to know what the busiest days of the week and hours of the day are (i.e., the days and times with the most orders) in order to schedule ads at times when there are fewer orders.\n"
   ]
  },
  {
   "cell_type": "code",
   "execution_count": null,
   "metadata": {},
   "outputs": [],
   "source": [
    "busy_day_and_hours = pd.crosstab(\n",
    "        orders_products_all['order_hour_of_day'], \n",
    "        orders_products_all['orders_day_of_week'],\n",
    ")\n",
    "busy_day_and_hours.head()"
   ]
  },
  {
   "cell_type": "code",
   "execution_count": null,
   "metadata": {},
   "outputs": [],
   "source": [
    "DAYS = ['Sunday', 'Monday', 'Tuesday', 'Wednesday', 'Thursday', 'Friday', 'Saturday']\n",
    "busy_day_and_hours = busy_day_and_hours.plot(\n",
    "    kind = \"bar\",\n",
    "    stacked = True,\n",
    "    figsize = (12,8),\n",
    "    title = \"busy_day_and_hours\")\n",
    "plt.legend(DAYS)\n",
    "plt.ylabel('Sales')\n"
   ]
  },
  {
   "cell_type": "code",
   "execution_count": null,
   "metadata": {},
   "outputs": [],
   "source": [
    "# Export visualizations\n",
    "busy_day_and_hours.figure.savefig(os.path.join(path2, '04 Analysis','Visualizations', 'busy_day_and_hours.png'))"
   ]
  },
  {
   "cell_type": "markdown",
   "metadata": {},
   "source": [
    "### 3. Instacart has a lot of products with different price tags. Marketing and sales want to use simpler price range groupings to help direct their efforts.\n"
   ]
  },
  {
   "cell_type": "code",
   "execution_count": 43,
   "metadata": {},
   "outputs": [
    {
     "name": "stderr",
     "output_type": "stream",
     "text": [
      "C:\\ProgramData\\Anaconda3\\lib\\site-packages\\ipykernel_launcher.py:7: FutureWarning: using a dict on a Series for aggregation\n",
      "is deprecated and will be removed in a future version. Use                 named aggregation instead.\n",
      "\n",
      "    >>> grouper.agg(name_1=func_1, name_2=func_2)\n",
      "\n",
      "  import sys\n"
     ]
    },
    {
     "ename": "AttributeError",
     "evalue": "'DataFrame' object has no attribute 'get_legend'",
     "output_type": "error",
     "traceback": [
      "\u001b[1;31m---------------------------------------------------------------------------\u001b[0m",
      "\u001b[1;31mAttributeError\u001b[0m                            Traceback (most recent call last)",
      "\u001b[1;32m<ipython-input-43-be85502a5474>\u001b[0m in \u001b[0;36m<module>\u001b[1;34m\u001b[0m\n\u001b[0;32m     10\u001b[0m \u001b[1;33m\u001b[0m\u001b[0m\n\u001b[0;32m     11\u001b[0m \u001b[0mprice_data\u001b[0m\u001b[1;33m.\u001b[0m\u001b[0mhead\u001b[0m\u001b[1;33m(\u001b[0m\u001b[1;33m)\u001b[0m\u001b[1;33m\u001b[0m\u001b[1;33m\u001b[0m\u001b[0m\n\u001b[1;32m---> 12\u001b[1;33m \u001b[0mprice_data\u001b[0m\u001b[1;33m.\u001b[0m\u001b[0mget_legend\u001b[0m\u001b[1;33m(\u001b[0m\u001b[1;33m)\u001b[0m\u001b[1;33m.\u001b[0m\u001b[0mremove\u001b[0m\u001b[1;33m(\u001b[0m\u001b[1;33m)\u001b[0m\u001b[1;33m\u001b[0m\u001b[1;33m\u001b[0m\u001b[0m\n\u001b[0m",
      "\u001b[1;32mC:\\ProgramData\\Anaconda3\\lib\\site-packages\\pandas\\core\\generic.py\u001b[0m in \u001b[0;36m__getattr__\u001b[1;34m(self, name)\u001b[0m\n\u001b[0;32m   5177\u001b[0m             \u001b[1;32mif\u001b[0m \u001b[0mself\u001b[0m\u001b[1;33m.\u001b[0m\u001b[0m_info_axis\u001b[0m\u001b[1;33m.\u001b[0m\u001b[0m_can_hold_identifiers_and_holds_name\u001b[0m\u001b[1;33m(\u001b[0m\u001b[0mname\u001b[0m\u001b[1;33m)\u001b[0m\u001b[1;33m:\u001b[0m\u001b[1;33m\u001b[0m\u001b[1;33m\u001b[0m\u001b[0m\n\u001b[0;32m   5178\u001b[0m                 \u001b[1;32mreturn\u001b[0m \u001b[0mself\u001b[0m\u001b[1;33m[\u001b[0m\u001b[0mname\u001b[0m\u001b[1;33m]\u001b[0m\u001b[1;33m\u001b[0m\u001b[1;33m\u001b[0m\u001b[0m\n\u001b[1;32m-> 5179\u001b[1;33m             \u001b[1;32mreturn\u001b[0m \u001b[0mobject\u001b[0m\u001b[1;33m.\u001b[0m\u001b[0m__getattribute__\u001b[0m\u001b[1;33m(\u001b[0m\u001b[0mself\u001b[0m\u001b[1;33m,\u001b[0m \u001b[0mname\u001b[0m\u001b[1;33m)\u001b[0m\u001b[1;33m\u001b[0m\u001b[1;33m\u001b[0m\u001b[0m\n\u001b[0m\u001b[0;32m   5180\u001b[0m \u001b[1;33m\u001b[0m\u001b[0m\n\u001b[0;32m   5181\u001b[0m     \u001b[1;32mdef\u001b[0m \u001b[0m__setattr__\u001b[0m\u001b[1;33m(\u001b[0m\u001b[0mself\u001b[0m\u001b[1;33m,\u001b[0m \u001b[0mname\u001b[0m\u001b[1;33m,\u001b[0m \u001b[0mvalue\u001b[0m\u001b[1;33m)\u001b[0m\u001b[1;33m:\u001b[0m\u001b[1;33m\u001b[0m\u001b[1;33m\u001b[0m\u001b[0m\n",
      "\u001b[1;31mAttributeError\u001b[0m: 'DataFrame' object has no attribute 'get_legend'"
     ]
    }
   ],
   "source": [
    "price_data = orders_products_all. \\\n",
    "    groupby(\n",
    "        ['prices'],\n",
    "        as_index=True,\n",
    "    )['prices'].agg(\n",
    "        {\n",
    "            \"frequency\": [\"count\"],\n",
    "       }\n",
    "    )\n",
    "\n",
    "price_data.head()\n"
   ]
  },
  {
   "cell_type": "code",
   "execution_count": 33,
   "metadata": {},
   "outputs": [
    {
     "data": {
      "text/html": [
       "<div>\n",
       "<style scoped>\n",
       "    .dataframe tbody tr th:only-of-type {\n",
       "        vertical-align: middle;\n",
       "    }\n",
       "\n",
       "    .dataframe tbody tr th {\n",
       "        vertical-align: top;\n",
       "    }\n",
       "\n",
       "    .dataframe thead tr th {\n",
       "        text-align: left;\n",
       "    }\n",
       "\n",
       "    .dataframe thead tr:last-of-type th {\n",
       "        text-align: right;\n",
       "    }\n",
       "</style>\n",
       "<table border=\"1\" class=\"dataframe\">\n",
       "  <thead>\n",
       "    <tr>\n",
       "      <th></th>\n",
       "      <th>frequency</th>\n",
       "    </tr>\n",
       "    <tr>\n",
       "      <th></th>\n",
       "      <th>count</th>\n",
       "    </tr>\n",
       "    <tr>\n",
       "      <th>prices</th>\n",
       "      <th></th>\n",
       "    </tr>\n",
       "  </thead>\n",
       "  <tbody>\n",
       "    <tr>\n",
       "      <td>1.00</td>\n",
       "      <td>115114</td>\n",
       "    </tr>\n",
       "    <tr>\n",
       "      <td>1.10</td>\n",
       "      <td>242729</td>\n",
       "    </tr>\n",
       "    <tr>\n",
       "      <td>1.20</td>\n",
       "      <td>256245</td>\n",
       "    </tr>\n",
       "    <tr>\n",
       "      <td>1.30</td>\n",
       "      <td>425645</td>\n",
       "    </tr>\n",
       "    <tr>\n",
       "      <td>1.40</td>\n",
       "      <td>392175</td>\n",
       "    </tr>\n",
       "    <tr>\n",
       "      <td>...</td>\n",
       "      <td>...</td>\n",
       "    </tr>\n",
       "    <tr>\n",
       "      <td>24.60</td>\n",
       "      <td>1962</td>\n",
       "    </tr>\n",
       "    <tr>\n",
       "      <td>24.70</td>\n",
       "      <td>7283</td>\n",
       "    </tr>\n",
       "    <tr>\n",
       "      <td>24.80</td>\n",
       "      <td>410</td>\n",
       "    </tr>\n",
       "    <tr>\n",
       "      <td>24.90</td>\n",
       "      <td>5780</td>\n",
       "    </tr>\n",
       "    <tr>\n",
       "      <td>25.00</td>\n",
       "      <td>13769</td>\n",
       "    </tr>\n",
       "  </tbody>\n",
       "</table>\n",
       "<p>240 rows × 1 columns</p>\n",
       "</div>"
      ],
      "text/plain": [
       "       frequency\n",
       "           count\n",
       "prices          \n",
       "1.00      115114\n",
       "1.10      242729\n",
       "1.20      256245\n",
       "1.30      425645\n",
       "1.40      392175\n",
       "...          ...\n",
       "24.60       1962\n",
       "24.70       7283\n",
       "24.80        410\n",
       "24.90       5780\n",
       "25.00      13769\n",
       "\n",
       "[240 rows x 1 columns]"
      ]
     },
     "execution_count": 33,
     "metadata": {},
     "output_type": "execute_result"
    }
   ],
   "source": [
    "price_data"
   ]
  },
  {
   "cell_type": "code",
   "execution_count": 46,
   "metadata": {},
   "outputs": [
    {
     "data": {
      "text/plain": [
       "Text(0, 0.5, 'Sales')"
      ]
     },
     "execution_count": 46,
     "metadata": {},
     "output_type": "execute_result"
    },
    {
     "data": {
      "image/png": "[encoded data removed]",
      "text/plain": [
       "<Figure size 432x288 with 1 Axes>"
      ]
     },
     "metadata": {
      "needs_background": "light"
     },
     "output_type": "display_data"
    }
   ],
   "source": [
    "price = price_data.plot(legend=None,\n",
    "   title = \"Frequency of prices\")\n",
    "\n",
    "plt.ylabel('Sales')\n",
    "\n",
    " \n",
    "\n"
   ]
  },
  {
   "cell_type": "code",
   "execution_count": 47,
   "metadata": {},
   "outputs": [],
   "source": [
    "# Export visualizations\n",
    "price.figure.savefig(os.path.join(path2, '04 Analysis','Visualizations', 'price.png'))"
   ]
  },
  {
   "cell_type": "markdown",
   "metadata": {},
   "source": [
    "### 4.Are there certain types of products that are more popular than others? The marketing and sales teams want to know which departments have the highest frequency of product orders.\n"
   ]
  },
  {
   "cell_type": "code",
   "execution_count": 48,
   "metadata": {},
   "outputs": [
    {
     "data": {
      "text/html": [
       "<div>\n",
       "<style scoped>\n",
       "    .dataframe tbody tr th:only-of-type {\n",
       "        vertical-align: middle;\n",
       "    }\n",
       "\n",
       "    .dataframe tbody tr th {\n",
       "        vertical-align: top;\n",
       "    }\n",
       "\n",
       "    .dataframe thead th {\n",
       "        text-align: right;\n",
       "    }\n",
       "</style>\n",
       "<table border=\"1\" class=\"dataframe\">\n",
       "  <thead>\n",
       "    <tr style=\"text-align: right;\">\n",
       "      <th></th>\n",
       "      <th>department_id</th>\n",
       "      <th>frequency</th>\n",
       "    </tr>\n",
       "  </thead>\n",
       "  <tbody>\n",
       "    <tr>\n",
       "      <td>0</td>\n",
       "      <td>1</td>\n",
       "      <td>2234539</td>\n",
       "    </tr>\n",
       "    <tr>\n",
       "      <td>1</td>\n",
       "      <td>2</td>\n",
       "      <td>36283</td>\n",
       "    </tr>\n",
       "    <tr>\n",
       "      <td>2</td>\n",
       "      <td>3</td>\n",
       "      <td>1172359</td>\n",
       "    </tr>\n",
       "    <tr>\n",
       "      <td>3</td>\n",
       "      <td>4</td>\n",
       "      <td>9478763</td>\n",
       "    </tr>\n",
       "    <tr>\n",
       "      <td>4</td>\n",
       "      <td>5</td>\n",
       "      <td>153677</td>\n",
       "    </tr>\n",
       "    <tr>\n",
       "      <td>5</td>\n",
       "      <td>6</td>\n",
       "      <td>269244</td>\n",
       "    </tr>\n",
       "    <tr>\n",
       "      <td>6</td>\n",
       "      <td>7</td>\n",
       "      <td>2687384</td>\n",
       "    </tr>\n",
       "    <tr>\n",
       "      <td>7</td>\n",
       "      <td>8</td>\n",
       "      <td>97710</td>\n",
       "    </tr>\n",
       "    <tr>\n",
       "      <td>8</td>\n",
       "      <td>9</td>\n",
       "      <td>866608</td>\n",
       "    </tr>\n",
       "    <tr>\n",
       "      <td>9</td>\n",
       "      <td>10</td>\n",
       "      <td>34570</td>\n",
       "    </tr>\n",
       "    <tr>\n",
       "      <td>10</td>\n",
       "      <td>11</td>\n",
       "      <td>447554</td>\n",
       "    </tr>\n",
       "    <tr>\n",
       "      <td>11</td>\n",
       "      <td>12</td>\n",
       "      <td>708879</td>\n",
       "    </tr>\n",
       "    <tr>\n",
       "      <td>12</td>\n",
       "      <td>13</td>\n",
       "      <td>1875218</td>\n",
       "    </tr>\n",
       "    <tr>\n",
       "      <td>13</td>\n",
       "      <td>14</td>\n",
       "      <td>704062</td>\n",
       "    </tr>\n",
       "    <tr>\n",
       "      <td>14</td>\n",
       "      <td>15</td>\n",
       "      <td>1068013</td>\n",
       "    </tr>\n",
       "    <tr>\n",
       "      <td>15</td>\n",
       "      <td>16</td>\n",
       "      <td>5393262</td>\n",
       "    </tr>\n",
       "    <tr>\n",
       "      <td>16</td>\n",
       "      <td>17</td>\n",
       "      <td>738486</td>\n",
       "    </tr>\n",
       "    <tr>\n",
       "      <td>17</td>\n",
       "      <td>18</td>\n",
       "      <td>423791</td>\n",
       "    </tr>\n",
       "    <tr>\n",
       "      <td>18</td>\n",
       "      <td>19</td>\n",
       "      <td>2887289</td>\n",
       "    </tr>\n",
       "    <tr>\n",
       "      <td>19</td>\n",
       "      <td>20</td>\n",
       "      <td>1051193</td>\n",
       "    </tr>\n",
       "    <tr>\n",
       "      <td>20</td>\n",
       "      <td>21</td>\n",
       "      <td>69142</td>\n",
       "    </tr>\n",
       "  </tbody>\n",
       "</table>\n",
       "</div>"
      ],
      "text/plain": [
       "    department_id  frequency\n",
       "0               1    2234539\n",
       "1               2      36283\n",
       "2               3    1172359\n",
       "3               4    9478763\n",
       "4               5     153677\n",
       "5               6     269244\n",
       "6               7    2687384\n",
       "7               8      97710\n",
       "8               9     866608\n",
       "9              10      34570\n",
       "10             11     447554\n",
       "11             12     708879\n",
       "12             13    1875218\n",
       "13             14     704062\n",
       "14             15    1068013\n",
       "15             16    5393262\n",
       "16             17     738486\n",
       "17             18     423791\n",
       "18             19    2887289\n",
       "19             20    1051193\n",
       "20             21      69142"
      ]
     },
     "execution_count": 48,
     "metadata": {},
     "output_type": "execute_result"
    }
   ],
   "source": [
    "department_profile = orders_products_all. \\\n",
    "    groupby(\n",
    "        ['department_id'],\n",
    "        as_index=False,\n",
    "    ).agg(\n",
    "        {\n",
    "            \"frequency\": \"count\"\n",
    "            \n",
    "        }\n",
    "    )\n",
    "department_profile"
   ]
  },
  {
   "cell_type": "code",
   "execution_count": 49,
   "metadata": {},
   "outputs": [
    {
     "data": {
      "text/html": [
       "<div>\n",
       "<style scoped>\n",
       "    .dataframe tbody tr th:only-of-type {\n",
       "        vertical-align: middle;\n",
       "    }\n",
       "\n",
       "    .dataframe tbody tr th {\n",
       "        vertical-align: top;\n",
       "    }\n",
       "\n",
       "    .dataframe thead th {\n",
       "        text-align: right;\n",
       "    }\n",
       "</style>\n",
       "<table border=\"1\" class=\"dataframe\">\n",
       "  <thead>\n",
       "    <tr style=\"text-align: right;\">\n",
       "      <th></th>\n",
       "      <th>department_id</th>\n",
       "      <th>frequency</th>\n",
       "      <th>department_name</th>\n",
       "    </tr>\n",
       "  </thead>\n",
       "  <tbody>\n",
       "    <tr>\n",
       "      <td>3</td>\n",
       "      <td>4</td>\n",
       "      <td>9478763</td>\n",
       "      <td>produce</td>\n",
       "    </tr>\n",
       "    <tr>\n",
       "      <td>15</td>\n",
       "      <td>16</td>\n",
       "      <td>5393262</td>\n",
       "      <td>dairy eggs</td>\n",
       "    </tr>\n",
       "    <tr>\n",
       "      <td>18</td>\n",
       "      <td>19</td>\n",
       "      <td>2887289</td>\n",
       "      <td>snacks</td>\n",
       "    </tr>\n",
       "    <tr>\n",
       "      <td>6</td>\n",
       "      <td>7</td>\n",
       "      <td>2687384</td>\n",
       "      <td>beverages</td>\n",
       "    </tr>\n",
       "    <tr>\n",
       "      <td>0</td>\n",
       "      <td>1</td>\n",
       "      <td>2234539</td>\n",
       "      <td>frozen</td>\n",
       "    </tr>\n",
       "    <tr>\n",
       "      <td>12</td>\n",
       "      <td>13</td>\n",
       "      <td>1875218</td>\n",
       "      <td>pantry</td>\n",
       "    </tr>\n",
       "    <tr>\n",
       "      <td>2</td>\n",
       "      <td>3</td>\n",
       "      <td>1172359</td>\n",
       "      <td>bakery</td>\n",
       "    </tr>\n",
       "    <tr>\n",
       "      <td>14</td>\n",
       "      <td>15</td>\n",
       "      <td>1068013</td>\n",
       "      <td>canned goods</td>\n",
       "    </tr>\n",
       "    <tr>\n",
       "      <td>19</td>\n",
       "      <td>20</td>\n",
       "      <td>1051193</td>\n",
       "      <td>deli</td>\n",
       "    </tr>\n",
       "    <tr>\n",
       "      <td>8</td>\n",
       "      <td>9</td>\n",
       "      <td>866608</td>\n",
       "      <td>dry goods pasta</td>\n",
       "    </tr>\n",
       "    <tr>\n",
       "      <td>16</td>\n",
       "      <td>17</td>\n",
       "      <td>738486</td>\n",
       "      <td>household</td>\n",
       "    </tr>\n",
       "    <tr>\n",
       "      <td>11</td>\n",
       "      <td>12</td>\n",
       "      <td>708879</td>\n",
       "      <td>meat seafood</td>\n",
       "    </tr>\n",
       "    <tr>\n",
       "      <td>13</td>\n",
       "      <td>14</td>\n",
       "      <td>704062</td>\n",
       "      <td>breakfast</td>\n",
       "    </tr>\n",
       "    <tr>\n",
       "      <td>10</td>\n",
       "      <td>11</td>\n",
       "      <td>447554</td>\n",
       "      <td>personal care</td>\n",
       "    </tr>\n",
       "    <tr>\n",
       "      <td>17</td>\n",
       "      <td>18</td>\n",
       "      <td>423791</td>\n",
       "      <td>babies</td>\n",
       "    </tr>\n",
       "    <tr>\n",
       "      <td>5</td>\n",
       "      <td>6</td>\n",
       "      <td>269244</td>\n",
       "      <td>international</td>\n",
       "    </tr>\n",
       "    <tr>\n",
       "      <td>4</td>\n",
       "      <td>5</td>\n",
       "      <td>153677</td>\n",
       "      <td>alcohol</td>\n",
       "    </tr>\n",
       "    <tr>\n",
       "      <td>7</td>\n",
       "      <td>8</td>\n",
       "      <td>97710</td>\n",
       "      <td>pets</td>\n",
       "    </tr>\n",
       "    <tr>\n",
       "      <td>20</td>\n",
       "      <td>21</td>\n",
       "      <td>69142</td>\n",
       "      <td>missing</td>\n",
       "    </tr>\n",
       "    <tr>\n",
       "      <td>1</td>\n",
       "      <td>2</td>\n",
       "      <td>36283</td>\n",
       "      <td>other</td>\n",
       "    </tr>\n",
       "    <tr>\n",
       "      <td>9</td>\n",
       "      <td>10</td>\n",
       "      <td>34570</td>\n",
       "      <td>bulk</td>\n",
       "    </tr>\n",
       "  </tbody>\n",
       "</table>\n",
       "</div>"
      ],
      "text/plain": [
       "    department_id  frequency  department_name\n",
       "3               4    9478763          produce\n",
       "15             16    5393262       dairy eggs\n",
       "18             19    2887289           snacks\n",
       "6               7    2687384        beverages\n",
       "0               1    2234539           frozen\n",
       "12             13    1875218           pantry\n",
       "2               3    1172359           bakery\n",
       "14             15    1068013     canned goods\n",
       "19             20    1051193             deli\n",
       "8               9     866608  dry goods pasta\n",
       "16             17     738486        household\n",
       "11             12     708879     meat seafood\n",
       "13             14     704062        breakfast\n",
       "10             11     447554    personal care\n",
       "17             18     423791           babies\n",
       "5               6     269244    international\n",
       "4               5     153677          alcohol\n",
       "7               8      97710             pets\n",
       "20             21      69142          missing\n",
       "1               2      36283            other\n",
       "9              10      34570             bulk"
      ]
     },
     "execution_count": 49,
     "metadata": {},
     "output_type": "execute_result"
    }
   ],
   "source": [
    "department_profile.sort_values(by ='frequency', ascending = False,  inplace = True)\n",
    "department_profile['department_name'] = department_profile.department_id.apply(lambda x: departments_by_id[x])\n",
    "department_profile"
   ]
  },
  {
   "cell_type": "code",
   "execution_count": 51,
   "metadata": {},
   "outputs": [
    {
     "data": {
      "text/plain": [
       "Text(0, 0.5, 'Frequency of product orders')"
      ]
     },
     "execution_count": 51,
     "metadata": {},
     "output_type": "execute_result"
    },
    {
     "data": {
      "image/png": "[encoded data removed]",
      "text/plain": [
       "<Figure size 432x288 with 1 Axes>"
      ]
     },
     "metadata": {
      "needs_background": "light"
     },
     "output_type": "display_data"
    }
   ],
   "source": [
    "data=department_profile[['department_name', 'frequency']]\n",
    "Frequency_of_product_orders_by_departmentdata = data.plot(\n",
    "    kind=\"bar\",\n",
    "    x = 'department_name',\n",
    "    y = 'frequency',\n",
    "    title = 'Frequency of product orders by department',\n",
    "    legend = False)\n",
    "plt.ylabel('Frequency of product orders')\n"
   ]
  },
  {
   "cell_type": "code",
   "execution_count": 52,
   "metadata": {},
   "outputs": [],
   "source": [
    "# Export visualizations\n",
    "Frequency_of_product_orders_by_departmentdata.figure.savefig(os.path.join(path2, '04 Analysis','Visualizations', 'Frequency_of_product_orders_by_departmentdata.png'))"
   ]
  },
  {
   "cell_type": "markdown",
   "metadata": {},
   "source": [
    "### 5.2 Are there differences in ordering habits based on a customer’s loyalty status?"
   ]
  },
  {
   "cell_type": "code",
   "execution_count": 77,
   "metadata": {},
   "outputs": [
    {
     "data": {
      "text/html": [
       "<div>\n",
       "<style scoped>\n",
       "    .dataframe tbody tr th:only-of-type {\n",
       "        vertical-align: middle;\n",
       "    }\n",
       "\n",
       "    .dataframe tbody tr th {\n",
       "        vertical-align: top;\n",
       "    }\n",
       "\n",
       "    .dataframe thead th {\n",
       "        text-align: right;\n",
       "    }\n",
       "</style>\n",
       "<table border=\"1\" class=\"dataframe\">\n",
       "  <thead>\n",
       "    <tr style=\"text-align: right;\">\n",
       "      <th>loyalty_flag</th>\n",
       "      <th>Loyal customer</th>\n",
       "      <th>New customer</th>\n",
       "      <th>Regular customer</th>\n",
       "    </tr>\n",
       "    <tr>\n",
       "      <th>orders_day_of_week</th>\n",
       "      <th></th>\n",
       "      <th></th>\n",
       "      <th></th>\n",
       "    </tr>\n",
       "  </thead>\n",
       "  <tbody>\n",
       "    <tr>\n",
       "      <td>0</td>\n",
       "      <td>1754582</td>\n",
       "      <td>1279859</td>\n",
       "      <td>3168688</td>\n",
       "    </tr>\n",
       "    <tr>\n",
       "      <td>1</td>\n",
       "      <td>1843199</td>\n",
       "      <td>1066755</td>\n",
       "      <td>2749033</td>\n",
       "    </tr>\n",
       "    <tr>\n",
       "      <td>2</td>\n",
       "      <td>1352187</td>\n",
       "      <td>813898</td>\n",
       "      <td>2046788</td>\n",
       "    </tr>\n",
       "    <tr>\n",
       "      <td>3</td>\n",
       "      <td>1266363</td>\n",
       "      <td>730896</td>\n",
       "      <td>1842365</td>\n",
       "    </tr>\n",
       "    <tr>\n",
       "      <td>4</td>\n",
       "      <td>1291900</td>\n",
       "      <td>694279</td>\n",
       "      <td>1796786</td>\n",
       "    </tr>\n",
       "  </tbody>\n",
       "</table>\n",
       "</div>"
      ],
      "text/plain": [
       "loyalty_flag        Loyal customer  New customer  Regular customer\n",
       "orders_day_of_week                                                \n",
       "0                          1754582       1279859           3168688\n",
       "1                          1843199       1066755           2749033\n",
       "2                          1352187        813898           2046788\n",
       "3                          1266363        730896           1842365\n",
       "4                          1291900        694279           1796786"
      ]
     },
     "execution_count": 77,
     "metadata": {},
     "output_type": "execute_result"
    }
   ],
   "source": [
    "frequency_department_name_vs_loyalty_flag = pd.crosstab(\n",
    "        orders_products_all['orders_day_of_week'],\n",
    "        orders_products_all['loyalty_flag'], \n",
    ")\n",
    "frequency_department_name_vs_loyalty_flag.head()"
   ]
  },
  {
   "cell_type": "code",
   "execution_count": 78,
   "metadata": {},
   "outputs": [
    {
     "data": {
      "text/plain": [
       "Text(0, 0.5, 'Frequency of product orders')"
      ]
     },
     "execution_count": 78,
     "metadata": {},
     "output_type": "execute_result"
    },
    {
     "data": {
      "image/png": "[encoded data removed]",
      "text/plain": [
       "<Figure size 864x576 with 1 Axes>"
      ]
     },
     "metadata": {
      "needs_background": "light"
     },
     "output_type": "display_data"
    }
   ],
   "source": [
    "frequency_department_name_vs_loyalty_flag = frequency_department_name_vs_loyalty_flag.plot(\n",
    "    kind = \"bar\",\n",
    "    stacked = False,\n",
    "    figsize = (12,8),\n",
    "    title = \"Amount of orders by day in the week and loyalty\")\n",
    "plt.ylabel('Frequency of product orders')\n",
    "\n",
    "\n",
    "\n"
   ]
  },
  {
   "cell_type": "code",
   "execution_count": 79,
   "metadata": {},
   "outputs": [],
   "source": [
    "# Export visualizations\n",
    "frequency_department_name_vs_loyalty_flag.figure.savefig(os.path.join(path2, '04 Analysis','Visualizations', 'frequency_department_name_vs_loyalty_flag.png'))"
   ]
  },
  {
   "cell_type": "code",
   "execution_count": 80,
   "metadata": {},
   "outputs": [],
   "source": [
    "# export new df\n",
    "orders_products_all.to_pickle(os.path.join(path,'Prepared Data', 'Orders_products_all.pkl'))"
   ]
  },
  {
   "cell_type": "code",
   "execution_count": null,
   "metadata": {},
   "outputs": [],
   "source": []
  }
 ],
 "metadata": {
  "kernelspec": {
   "display_name": "Python 3",
   "language": "python",
   "name": "python3"
  },
  "language_info": {
   "codemirror_mode": {
    "name": "ipython",
    "version": 3
   },
   "file_extension": ".py",
   "mimetype": "text/x-python",
   "name": "python",
   "nbconvert_exporter": "python",
   "pygments_lexer": "ipython3",
   "version": "3.7.4"
  }
 },
 "nbformat": 4,
 "nbformat_minor": 2
}
