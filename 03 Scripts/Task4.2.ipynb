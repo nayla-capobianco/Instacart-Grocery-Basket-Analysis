{
 "cells": [
  {
   "cell_type": "markdown",
   "metadata": {},
   "source": [
    "# 4.2 Jupyter Fundamentals & Python Data Types"
   ]
  },
  {
   "cell_type": "markdown",
   "metadata": {},
   "source": [
    "## Compare various Python libraries \n",
    "## Different data types in Python"
   ]
  },
  {
   "cell_type": "markdown",
   "metadata": {},
   "source": [
    "#  01. Importing libraries"
   ]
  },
  {
   "cell_type": "code",
   "execution_count": 2,
   "metadata": {},
   "outputs": [],
   "source": [
    "# import libraries\n",
    "import pandas as pd\n",
    "import numpy as np\n",
    "import os"
   ]
  },
  {
   "cell_type": "markdown",
   "metadata": {},
   "source": [
    "# 02. Data types\n"
   ]
  },
  {
   "cell_type": "code",
   "execution_count": null,
   "metadata": {},
   "outputs": [],
   "source": [
    "# 3 different ways of reaching a result of 100"
   ]
  },
  {
   "cell_type": "code",
   "execution_count": 16,
   "metadata": {},
   "outputs": [],
   "source": [
    "x=10+90"
   ]
  },
  {
   "cell_type": "code",
   "execution_count": 17,
   "metadata": {},
   "outputs": [],
   "source": [
    "y=10*10"
   ]
  },
  {
   "cell_type": "code",
   "execution_count": 24,
   "metadata": {},
   "outputs": [],
   "source": [
    "z=500-200-200"
   ]
  },
  {
   "cell_type": "code",
   "execution_count": 25,
   "metadata": {},
   "outputs": [
    {
     "name": "stdout",
     "output_type": "stream",
     "text": [
      "100 100 100\n"
     ]
    }
   ],
   "source": [
    "print (x,y,z)"
   ]
  },
  {
   "cell_type": "code",
   "execution_count": null,
   "metadata": {},
   "outputs": [],
   "source": [
    "# Code 2 floating-point variables and divide them by each other."
   ]
  },
  {
   "cell_type": "code",
   "execution_count": 32,
   "metadata": {},
   "outputs": [
    {
     "name": "stdout",
     "output_type": "stream",
     "text": [
      "0.4042220484753714\n"
     ]
    }
   ],
   "source": [
    "a=10.34\n",
    "b=25.58\n",
    "c=(a/b)\n",
    "print (c)"
   ]
  },
  {
   "cell_type": "code",
   "execution_count": null,
   "metadata": {},
   "outputs": [],
   "source": [
    "# Construct a short word made of separate strings"
   ]
  },
  {
   "cell_type": "code",
   "execution_count": 33,
   "metadata": {},
   "outputs": [
    {
     "name": "stdout",
     "output_type": "stream",
     "text": [
      "DATA\n"
     ]
    }
   ],
   "source": [
    "d='D'\n",
    "a='A'\n",
    "t='T'\n",
    "a='A'\n",
    "x= d + a + t + a\n",
    "print(x)"
   ]
  },
  {
   "cell_type": "code",
   "execution_count": null,
   "metadata": {},
   "outputs": [],
   "source": [
    "# Construct 2 short sentences made of separate strings."
   ]
  },
  {
   "cell_type": "code",
   "execution_count": 34,
   "metadata": {},
   "outputs": [
    {
     "name": "stdout",
     "output_type": "stream",
     "text": [
      "Career Foundry\n"
     ]
    }
   ],
   "source": [
    "a='Career'\n",
    "b= ' Foundry'\n",
    "c= a + b\n",
    "print(c)"
   ]
  },
  {
   "cell_type": "code",
   "execution_count": null,
   "metadata": {},
   "outputs": [],
   "source": [
    "# Bonus Task"
   ]
  },
  {
   "cell_type": "code",
   "execution_count": 36,
   "metadata": {},
   "outputs": [],
   "source": [
    "C=c*100"
   ]
  },
  {
   "cell_type": "code",
   "execution_count": 37,
   "metadata": {},
   "outputs": [
    {
     "name": "stdout",
     "output_type": "stream",
     "text": [
      "Career FoundryCareer FoundryCareer FoundryCareer FoundryCareer FoundryCareer FoundryCareer FoundryCareer FoundryCareer FoundryCareer FoundryCareer FoundryCareer FoundryCareer FoundryCareer FoundryCareer FoundryCareer FoundryCareer FoundryCareer FoundryCareer FoundryCareer FoundryCareer FoundryCareer FoundryCareer FoundryCareer FoundryCareer FoundryCareer FoundryCareer FoundryCareer FoundryCareer FoundryCareer FoundryCareer FoundryCareer FoundryCareer FoundryCareer FoundryCareer FoundryCareer FoundryCareer FoundryCareer FoundryCareer FoundryCareer FoundryCareer FoundryCareer FoundryCareer FoundryCareer FoundryCareer FoundryCareer FoundryCareer FoundryCareer FoundryCareer FoundryCareer FoundryCareer FoundryCareer FoundryCareer FoundryCareer FoundryCareer FoundryCareer FoundryCareer FoundryCareer FoundryCareer FoundryCareer FoundryCareer FoundryCareer FoundryCareer FoundryCareer FoundryCareer FoundryCareer FoundryCareer FoundryCareer FoundryCareer FoundryCareer FoundryCareer FoundryCareer FoundryCareer FoundryCareer FoundryCareer FoundryCareer FoundryCareer FoundryCareer FoundryCareer FoundryCareer FoundryCareer FoundryCareer FoundryCareer FoundryCareer FoundryCareer FoundryCareer FoundryCareer FoundryCareer FoundryCareer FoundryCareer FoundryCareer FoundryCareer FoundryCareer FoundryCareer FoundryCareer FoundryCareer FoundryCareer FoundryCareer FoundryCareer FoundryCareer Foundry\n"
     ]
    }
   ],
   "source": [
    "print (C)"
   ]
  },
  {
   "cell_type": "code",
   "execution_count": null,
   "metadata": {},
   "outputs": [],
   "source": []
  }
 ],
 "metadata": {
  "kernelspec": {
   "display_name": "Python 3",
   "language": "python",
   "name": "python3"
  },
  "language_info": {
   "codemirror_mode": {
    "name": "ipython",
    "version": 3
   },
   "file_extension": ".py",
   "mimetype": "text/x-python",
   "name": "python",
   "nbconvert_exporter": "python",
   "pygments_lexer": "ipython3",
   "version": "3.7.4"
  }
 },
 "nbformat": 4,
 "nbformat_minor": 2
}
